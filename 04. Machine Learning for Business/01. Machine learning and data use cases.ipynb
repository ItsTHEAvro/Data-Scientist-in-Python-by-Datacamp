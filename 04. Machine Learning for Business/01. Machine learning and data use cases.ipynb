{
 "cells": [
  {
   "cell_type": "markdown",
   "id": "cd37761b",
   "metadata": {},
   "source": [
    "This chapter contains basic theory of different types of roles related to data and ML in a business."
   ]
  },
  {
   "cell_type": "markdown",
   "id": "b04c9a33",
   "metadata": {},
   "source": [
    "![Data Hierarchy of Needs](data_hierarchy_of_needs.png)"
   ]
  },
  {
   "cell_type": "markdown",
   "id": "5111862d",
   "metadata": {},
   "source": []
  }
 ],
 "metadata": {
  "language_info": {
   "name": "python"
  }
 },
 "nbformat": 4,
 "nbformat_minor": 5
}

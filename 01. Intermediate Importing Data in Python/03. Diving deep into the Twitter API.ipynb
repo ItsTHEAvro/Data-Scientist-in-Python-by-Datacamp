{
 "cells": [
  {
   "cell_type": "markdown",
   "id": "0acc55da",
   "metadata": {},
   "source": [
    "# Streaming tweets\n",
    "\n",
    "It's time to stream some tweets! Your task is to create the `Stream` object and to filter tweets according to particular keywords. `tweepy` has been imported for you.\n",
    "\n",
    "## Instructions\n",
    "\n",
    "- Create your `Stream` object with the credentials given.\n",
    "- Filter your Stream variable for the keywords `\"clinton\"` , `\"trump\"` , `\"sanders\"` , and `\"cruz\"` ."
   ]
  },
  {
   "cell_type": "code",
   "execution_count": null,
   "id": "c76c4f08",
   "metadata": {},
   "outputs": [],
   "source": [
    "# WON'T RUN IN MY PC BUT GOT ACCEPTED BY DATACAMP\n",
    "import tweepy\n",
    "\n",
    "# Store credentials in relevant variables\n",
    "consumer_key = \"nZ6EA0FxZ293SxGNg8g8aP0HM\"\n",
    "consumer_secret = \"fJGEodwe3KiKUnsYJC3VRndj7jevVvXbK2D5EiJ2nehafRgA6i\"\n",
    "access_token = \"1092294848-aHN7DcRP9B4VMTQIhwqOYiB14YkW92fFO8k8EPy\"\n",
    "access_token_secret = \"X4dHmhPfaksHcQ7SCbmZa2oYBBVSD2g8uIHXsp5CTaksx\"\n",
    "\n",
    "# Create your Stream object with credentials\n",
    "stream = tweepy.Stream(consumer_key, consumer_secret, access_token, access_token_secret)\n",
    "\n",
    "# Filter your Stream variable\n",
    "stream.filter(track=[\"clinton\", \"trump\", \"sanders\", \"cruz\"])"
   ]
  },
  {
   "cell_type": "markdown",
   "id": "f9bd3a5a",
   "metadata": {},
   "source": []
  },
  {
   "cell_type": "markdown",
   "id": "03ae2e59",
   "metadata": {},
   "source": [
    "# Load and explore your Twitter data\n",
    "\n",
    "Now that you've got your Twitter data sitting locally in a text file, it's time to explore it! This is what you'll do in the next few interactive exercises. In this exercise, you'll read the Twitter data into a list: `tweets_data` .\n",
    "\n",
    "Be aware that this is real data from Twitter and as such there is always a risk that it may contain profanity or other offensive content (in this exercise, and any following exercises that also use real Twitter data).\n",
    "\n",
    "## Instructions\n",
    "\n",
    "- Assign the filename `'tweets.txt'` to the variable `tweets_data_path` .\n",
    "- Initialize `tweets_data` as an empty list to store the tweets in.\n",
    "- Within the `for` loop initiated by `for line in tweets_file:` , load each tweet into a variable, `tweet` , using `json.loads()` , then append `tweet` to `tweets_data` using the `append()` method.\n",
    "- Hit submit and check out the keys of the first tweet dictionary printed to the shell."
   ]
  },
  {
   "cell_type": "code",
   "execution_count": 3,
   "id": "e72ade0e",
   "metadata": {},
   "outputs": [
    {
     "name": "stdout",
     "output_type": "stream",
     "text": [
      "dict_keys(['in_reply_to_user_id', 'created_at', 'filter_level', 'truncated', 'possibly_sensitive', 'timestamp_ms', 'user', 'text', 'extended_entities', 'in_reply_to_status_id', 'entities', 'favorited', 'retweeted', 'is_quote_status', 'id', 'favorite_count', 'retweeted_status', 'in_reply_to_status_id_str', 'in_reply_to_user_id_str', 'id_str', 'in_reply_to_screen_name', 'coordinates', 'lang', 'place', 'contributors', 'geo', 'retweet_count', 'source'])\n"
     ]
    }
   ],
   "source": [
    "# Import package\n",
    "import json\n",
    "\n",
    "# String of path to file: tweets_data_path\n",
    "tweets_data_path = \"tweets.txt\"\n",
    "\n",
    "# Initialize empty list to store tweets: tweets_data\n",
    "tweets_data = []\n",
    "\n",
    "# Open connection to file\n",
    "tweets_file = open(tweets_data_path, \"r\")\n",
    "\n",
    "# Read in tweets and store in list: tweets_data\n",
    "for line in tweets_file:\n",
    "    tweet = json.loads(line)\n",
    "    tweets_data.append(tweet)\n",
    "\n",
    "# Close connection to file\n",
    "tweets_file.close()\n",
    "\n",
    "# Print the keys of the first tweet dict\n",
    "print(tweets_data[0].keys())\n"
   ]
  },
  {
   "cell_type": "markdown",
   "id": "10f14c8d",
   "metadata": {},
   "source": [
    "# Twitter data to DataFrame\n",
    "\n",
    "Now you have the Twitter data in a list of dictionaries, `tweets_data` , where each dictionary corresponds to a single tweet. Next, you're going to extract the text and language of each tweet. The text in a tweet, `t1` , is stored as the value `t1['text']` ; similarly, the language is stored in `t1['lang']` . Your task is to build a DataFrame in which each row is a tweet and the columns are `'text'` and `'lang'` .\n",
    "\n",
    "## Instructions\n",
    "\n",
    "- Use `pd.DataFrame()` to construct a DataFrame of tweet texts and languages; to do so, the first argument should be `tweets_data` , a list of dictionaries. The second argument to `pd.DataFrame()` is a list of the keys you wish to have as columns. Assign the result of the `pd.DataFrame()` call to `df` .\n",
    "- Print the head of the DataFrame."
   ]
  },
  {
   "cell_type": "code",
   "execution_count": 4,
   "id": "d93ed495",
   "metadata": {},
   "outputs": [
    {
     "name": "stdout",
     "output_type": "stream",
     "text": [
      "                                                text lang\n",
      "0  RT @bpolitics: .@krollbondrating's Christopher...   en\n",
      "1  RT @HeidiAlpine: @dmartosko Cruz video found.....   en\n",
      "2  Njihuni me Zonjën Trump !!! | Ekskluzive https...   et\n",
      "3  Your an idiot she shouldn't have tried to grab...   en\n",
      "4  RT @AlanLohner: The anti-American D.C. elites ...   en\n"
     ]
    }
   ],
   "source": [
    "# Import package\n",
    "import pandas as pd\n",
    "\n",
    "# Build DataFrame of tweet texts and languages\n",
    "df = pd.DataFrame(tweets_data, columns=[\"text\", \"lang\"])\n",
    "\n",
    "# Print head of DataFrame\n",
    "print(df.head())"
   ]
  },
  {
   "cell_type": "markdown",
   "id": "44791b56",
   "metadata": {},
   "source": []
  },
  {
   "cell_type": "markdown",
   "id": "4499d654",
   "metadata": {},
   "source": [
    "# A little bit of Twitter text analysis\n",
    "\n",
    "Now that you have your DataFrame of tweets set up, you're going to do a bit of text analysis to count how many tweets contain the words `'clinton'` , `'trump'` , `'sanders'` and `'cruz'` . In the pre-exercise code, we have defined the following function `word_in_text()` , which will tell you whether the first argument (a word) occurs within the 2nd argument (a tweet).\n",
    "\n",
    "You're going to iterate over the rows of the DataFrame and calculate how many tweets contain each of our keywords! The list of objects for each candidate has been initialized to 0.\n",
    "\n",
    "```python\n",
    "import re\n",
    "\n",
    "def word_in_text(word, text):\n",
    "    word = word.lower()\n",
    "    text = text.lower()\n",
    "    match = re.search(word, text)\n",
    "\n",
    "    if match:\n",
    "        return True\n",
    "    return False\n",
    "```\n",
    "    \n",
    "## Instructions\n",
    "\n",
    "- Within the `for` loop `for index, row in df.iterrows():`, the code currently increases the value of `clinton` by `1` each time a tweet (text row) mentioning 'Clinton' is encountered; complete the code so that the same happens for `trump`, `sanders` and `cruz` ."
   ]
  },
  {
   "cell_type": "code",
   "execution_count": 5,
   "id": "c5fe8a92",
   "metadata": {},
   "outputs": [],
   "source": [
    "import re\n",
    "\n",
    "def word_in_text(word, text):\n",
    "    word = word.lower()\n",
    "    text = text.lower()\n",
    "    match = re.search(word, text)\n",
    "\n",
    "    if match:\n",
    "        return True\n",
    "    return False"
   ]
  },
  {
   "cell_type": "code",
   "execution_count": 6,
   "id": "a56ba4f9",
   "metadata": {},
   "outputs": [],
   "source": [
    "# Initialize list to store tweet counts\n",
    "[clinton, trump, sanders, cruz] = [0, 0, 0, 0]\n",
    "\n",
    "# Iterate through df, counting the number of tweets in which\n",
    "# each candidate is mentioned\n",
    "for index, row in df.iterrows():\n",
    "    clinton += word_in_text('clinton', row['text'])\n",
    "    trump += word_in_text('trump', row['text'])\n",
    "    sanders += word_in_text('sanders', row['text'])\n",
    "    cruz += word_in_text('cruz', row['text'])"
   ]
  },
  {
   "cell_type": "markdown",
   "id": "bddf4281",
   "metadata": {},
   "source": []
  },
  {
   "cell_type": "markdown",
   "id": "a7c5fb8d",
   "metadata": {},
   "source": [
    "# Plotting your Twitter data\n",
    "\n",
    "Now that you have the number of tweets that each candidate was mentioned in, you can plot a bar chart of this data. You'll use the statistical data visualization library [seaborn](https://stanford.edu/~mwaskom/software/seaborn/) , which you may not have seen before, but we'll guide you through. You'll first import `seaborn` as `sns` . You'll then construct a barplot of the data using `sns.barplot` , passing it two arguments:\n",
    "\n",
    "Hopefully, you'll see that Trump was unreasonably represented! We have already run the previous exercise solutions in your environment.\n",
    "\n",
    "## Instructions\n",
    "\n",
    "- Import both `matplotlib.pyplot` and `seaborn` using the aliases `plt` and `sns` , respectively.\n",
    "- Complete the arguments of `sns.barplot` : The first argument should be the list of labels to appear on the x-axis (created in the previous step). The second argument should be a list of the variables you wish to plot, as produced in the previous exercise (i.e. a list containing `clinton` , `trump` , etc).\n",
    "- The first argument should be the list of labels to appear on the x-axis (created in the previous step).\n",
    "- The second argument should be a list of the variables you wish to plot, as produced in the previous exercise (i.e. a list containing `clinton` , `trump` , etc)."
   ]
  },
  {
   "cell_type": "code",
   "execution_count": 9,
   "id": "566b6ba1",
   "metadata": {},
   "outputs": [
    {
     "data": {
      "image/png": "[encoded data removed]",
      "text/plain": [
       "<Figure size 640x480 with 1 Axes>"
      ]
     },
     "metadata": {},
     "output_type": "display_data"
    }
   ],
   "source": [
    "# Import packages\n",
    "import matplotlib.pyplot as plt\n",
    "import seaborn as sns\n",
    "\n",
    "# Set seaborn style\n",
    "sns.set(color_codes=True)\n",
    "\n",
    "# Create a list of labels:cd\n",
    "cd = ['clinton', 'trump', 'sanders', 'cruz']\n",
    "\n",
    "# Plot the bar chart\n",
    "ax = sns.barplot(x=cd, y=[clinton, trump, sanders, cruz])\n",
    "ax.set(ylabel=\"count\")\n",
    "plt.show()\n"
   ]
  }
 ],
 "metadata": {
  "kernelspec": {
   "display_name": "Python 3",
   "language": "python",
   "name": "python3"
  },
  "language_info": {
   "codemirror_mode": {
    "name": "ipython",
    "version": 3
   },
   "file_extension": ".py",
   "mimetype": "text/x-python",
   "name": "python",
   "nbconvert_exporter": "python",
   "pygments_lexer": "ipython3",
   "version": "3.12.3"
  }
 },
 "nbformat": 4,
 "nbformat_minor": 5
}

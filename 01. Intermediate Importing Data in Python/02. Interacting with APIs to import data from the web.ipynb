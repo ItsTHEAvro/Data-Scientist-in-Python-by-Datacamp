{
 "cells": [
  {
   "cell_type": "markdown",
   "id": "b9bd0dec",
   "metadata": {},
   "source": [
    "# Loading and exploring a JSON\n",
    "\n",
    "Now that you know what a JSON is, you'll load one into your Python\n",
    "environment and explore it yourself. Here, you'll load the JSON `'a_movie.json'` into the variable `json_data` , which will be a\n",
    "dictionary. You'll then explore the JSON contents by printing the\n",
    "key-value pairs of `json_data` to the shell.\n",
    "\n",
    "## Instructions\n",
    "\n",
    "- Load the JSON `'a_movie.json'` into the variable `json_data` within the context provided by the `with` statement. To do so, use the function `json.load()` within the context manager .\n",
    "- Use a `for` loop to print all key-value pairs in the dictionary `json_data` . Recall that you can access a value in a dictionary using the syntax: dictionary `[` key `]` ."
   ]
  },
  {
   "cell_type": "code",
   "execution_count": null,
   "id": "629053c9",
   "metadata": {},
   "outputs": [],
   "source": [
    "# Load JSON: json_data\n",
    "with open(\"a_movie.json\") as json_file:\n",
    "    import json\n",
    "    json_data = json.load(json_file)\n",
    "\n",
    "# Print each key-value pair in json_data\n",
    "for k in json_data.keys():\n",
    "    print(k + ': ', json_data[k])"
   ]
  },
  {
   "cell_type": "markdown",
   "id": "f2fc912f",
   "metadata": {},
   "source": [
    "# API requests\n",
    "\n",
    "Now it's your turn to pull some movie data down from the Open Movie Database (OMDB) using their API.\n",
    "The movie you'll query the API about is The Social Network .\n",
    "Recall that, in the video, to query the API about the movie Hackers , Hugo's query string was `'http://www.omdbapi.com/?t=hackers'` and had a single argument `t=hackers` .\n",
    "\n",
    "Note: recently, OMDB has changed their API: you now also have to specify an API key. This means you'll have to add another argument to the URL: `apikey=72bc447a` .\n",
    "\n",
    "## Instructions\n",
    "\n",
    "- Import the `requests` package.\n",
    "- Assign to the variable `url` the URL of interest in order to query `'http://www.omdbapi.com'` for the data corresponding to the movie The Social Network . The query string should have two arguments: `apikey=72bc447a` and `t=the+social+network` . You can combine them as follows: `apikey=72bc447a&t=the+social+network` .\n",
    "- Print the text of the response object `r` by using its `text` attribute and passing the result to the `print()` function."
   ]
  },
  {
   "cell_type": "code",
   "execution_count": null,
   "id": "c3680e11",
   "metadata": {},
   "outputs": [],
   "source": [
    "# Import requests package\n",
    "import requests\n",
    "\n",
    "# Assign URL to variable: url\n",
    "url = \"http://www.omdbapi.com/?apikey=72bc447a&t=the+social+network\"\n",
    "\n",
    "# Package the request, send the request and catch the response: r\n",
    "r = requests.get(url)\n",
    "\n",
    "# Print the text of the response\n",
    "print(r.text)\n"
   ]
  },
  {
   "cell_type": "markdown",
   "id": "2482afa7",
   "metadata": {},
   "source": [
    "# JSON–from the web to Python\n",
    "\n",
    "Wow, congrats! You've just queried your first API programmatically in Python and printed the text of the response to the shell. However, as you know, your response is actually a JSON, so you can do one step better and decode the JSON. You can then print the key-value pairs of the resulting dictionary. That's what you're going to do now!\n",
    "\n",
    "## Instructions\n",
    "\n",
    "- Pass the variable `url` to the `requests.get()` function in order to send the relevant request and catch the response, assigning the resultant response message to the variable `r` .\n",
    "- Apply the `json()` method to the response object `r` and store the resulting dictionary in the variable `json_data` .\n",
    "- Hit submit to print the key-value pairs of the dictionary `json_data` to the shell."
   ]
  },
  {
   "cell_type": "code",
   "execution_count": null,
   "id": "fa11ed92",
   "metadata": {},
   "outputs": [],
   "source": [
    "# Import package\n",
    "import requests\n",
    "\n",
    "# Assign URL to variable: url\n",
    "url = 'http://www.omdbapi.com/?apikey=72bc447a&t=social+network'\n",
    "\n",
    "# Package the request, send the request and catch the response: r\n",
    "r = requests.get(url)\n",
    "\n",
    "# Decode the JSON data into a dictionary: json_data\n",
    "json_data = r.json()\n",
    "\n",
    "# Print each key-value pair in json_data\n",
    "for k in json_data.keys():\n",
    "    print(k + ': ', json_data[k])\n"
   ]
  },
  {
   "cell_type": "markdown",
   "id": "206a12f1",
   "metadata": {},
   "source": [
    "# Checking out the Wikipedia API\n",
    "\n",
    "You're doing so well and having so much fun that we're going to throw one more API at you: the Wikipedia API (documented [here](https://www.mediawiki.org/wiki/API:Main_page) ). You'll figure out how to find and extract information from the Wikipedia page for Pizza . What gets a bit wild here is that your query will return nested JSONs, that is, JSONs with JSONs, but Python can handle that because it will translate them into dictionaries within dictionaries.\n",
    "\n",
    "The URL that requests the relevant query from the Wikipedia API is\n",
    "\n",
    "```https://en.wikipedia.org/w/api.php?action=query&prop=extracts&format=json&exintro=&titles=pizza```\n",
    "\n",
    "## Instructions\n",
    "\n",
    "- Assign the relevant URL to the variable `url`.\n",
    "- Apply the `json()` method to the response object `r` and store the resulting dictionary in the variable `json_data`.\n",
    "- The variable `pizza_extract` holds the HTML of an extract from Wikipedia's Pizza page as a string; use the function `print()` to print this string to the shell."
   ]
  },
  {
   "cell_type": "code",
   "execution_count": null,
   "id": "5291e435",
   "metadata": {},
   "outputs": [],
   "source": [
    "# Import package\n",
    "import requests\n",
    "\n",
    "# Assign URL to variable: url\n",
    "url = 'https://en.wikipedia.org/w/api.php?action=query&prop=extracts&format=json&exintro=&titles=pizza'\n",
    "\n",
    "\n",
    "# Package the request, send the request and catch the response: r\n",
    "r = requests.get(url)\n",
    "\n",
    "# Decode the JSON data into a dictionary: json_data\n",
    "json_data = r.json()\n",
    "\n",
    "# Print the Wikipedia page extract\n",
    "pizza_extract = json_data['query']['pages']['24768']['extract']\n",
    "print(pizza_extract)"
   ]
  },
  {
   "cell_type": "markdown",
   "id": "6f4fe496",
   "metadata": {},
   "source": []
  }
 ],
 "metadata": {
  "kernelspec": {
   "display_name": "Python 3",
   "language": "python",
   "name": "python3"
  },
  "language_info": {
   "codemirror_mode": {
    "name": "ipython",
    "version": 3
   },
   "file_extension": ".py",
   "mimetype": "text/x-python",
   "name": "python",
   "nbconvert_exporter": "python",
   "pygments_lexer": "ipython3",
   "version": "3.12.3"
  }
 },
 "nbformat": 4,
 "nbformat_minor": 5
}

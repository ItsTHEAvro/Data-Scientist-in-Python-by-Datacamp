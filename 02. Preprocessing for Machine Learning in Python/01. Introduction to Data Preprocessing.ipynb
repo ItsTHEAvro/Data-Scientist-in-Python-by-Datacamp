{
 "cells": [
  {
   "cell_type": "markdown",
   "id": "0230ee1f",
   "metadata": {},
   "source": [
    "# Dropping missing data\n",
    "\n",
    "Now that you've explored the `volunteer` dataset and understand its structure and contents, it's time to begin dropping missing values.\n",
    "\n",
    "In this exercise, you'll drop both columns and rows to create a subset of the `volunteer` dataset.\n",
    "\n",
    "## Instructions\n",
    "\n",
    "- Drop the `Latitude` and `Longitude` columns from `volunteer` , storing as `volunteer_cols` .\n",
    "- Subset `volunteer_cols` by dropping rows containing missing values in the `category_desc` , and store in a new variable called `volunteer_subset` .\n",
    "- Take a look at the `.shape` attribute of `volunteer_subset` , to verify it worked correctly."
   ]
  },
  {
   "cell_type": "code",
   "execution_count": 12,
   "id": "941cf8d3",
   "metadata": {},
   "outputs": [
    {
     "name": "stdout",
     "output_type": "stream",
     "text": [
      "(617, 33)\n"
     ]
    }
   ],
   "source": [
    "import pandas as pd\n",
    "\n",
    "volunteer = pd.read_csv('volunteer_opportunities.csv')\n",
    "\n",
    "# Drop the Latitude and Longitude columns from volunteer\n",
    "volunteer_cols = volunteer.drop(columns=['Latitude', 'Longitude'])\n",
    "\n",
    "# Drop rows with missing category_desc values from volunteer_cols\n",
    "volunteer_subset = volunteer_cols.dropna(subset=['category_desc'])\n",
    "\n",
    "# Print out the shape of the subset\n",
    "print(volunteer_subset.shape)"
   ]
  },
  {
   "cell_type": "markdown",
   "id": "835f9d18",
   "metadata": {},
   "source": [
    " # Converting a column type\n",
    "\n",
    "If you take a look at the `volunteer` dataset types, you'll see that the column `hits` is type `object` . But, if you actually look at the column, you'll see that it consists of integers. Let's convert that column to type `int` .\n",
    "\n",
    "## Instructions\n",
    "\n",
    "- Take a look at the `.head()` of the `hits` column.\n",
    "- Convert the `hits` column to type `int` .\n",
    "- Take a look at the `.dtypes` of the dataset again, and notice that the column type has changed."
   ]
  },
  {
   "cell_type": "markdown",
   "id": "c138086a",
   "metadata": {},
   "source": []
  },
  {
   "cell_type": "code",
   "execution_count": null,
   "id": "dd1cf296",
   "metadata": {},
   "outputs": [],
   "source": [
    "# Print the head of the hits column\n",
    "print(volunteer[\"hits\"].head())\n",
    "\n",
    "# Convert the hits column to type int\n",
    "volunteer[\"hits\"] = volunteer[\"hits\"].astype(int)\n",
    "\n",
    "# Look at the dtypes of the dataset\n",
    "print(volunteer.dtypes)"
   ]
  },
  {
   "cell_type": "markdown",
   "id": "519dadc8",
   "metadata": {},
   "source": [
    "# Stratified sampling\n",
    "\n",
    "You now know that the distribution of class labels in the `category_desc` column of the `volunteer` dataset is uneven. If you wanted to train a model to predict `category_desc` , you'll need to ensure that the model is trained on a sample of data that is representative of the entire dataset. Stratified sampling is a way to achieve this!\n",
    "\n",
    "## Instructions\n",
    "\n",
    "- Create a DataFrame of features, `X` , with all of the columns except `category_desc` .\n",
    "- Create a DataFrame of labels, `y` from the `category_desc` column.\n",
    "- Split `X` and `y` into training and test sets, ensuring that the class distribution in the labels is the same in both sets\n",
    "- Print the labels and counts in `y_train` using `.value_counts()` ."
   ]
  },
  {
   "cell_type": "code",
   "execution_count": 14,
   "id": "c47e5475",
   "metadata": {},
   "outputs": [],
   "source": [
    "# dropping rows with missing values first\n",
    "volunteer = volunteer.dropna(subset=['category_desc'])"
   ]
  },
  {
   "cell_type": "code",
   "execution_count": null,
   "id": "387f19eb",
   "metadata": {},
   "outputs": [],
   "source": [
    "# Create a DataFrame with all columns except category_desc\n",
    "X = volunteer.drop('category_desc', axis=1)\n",
    "\n",
    "# Create a category_desc labels dataset\n",
    "y = volunteer[['category_desc']]\n",
    "\n",
    "# Import train_test_split from sklearn.model_selection\n",
    "from sklearn.model_selection import train_test_split\n",
    "\n",
    "# Use stratified sampling to split up the dataset according to the y dataset\n",
    "X_train, X_test, y_train, y_test = train_test_split(X, y, stratify=y, random_state=42)\n",
    "\n",
    "# Print the category_desc counts from y_train\n",
    "print(y_train['category_desc'].value_counts())"
   ]
  }
 ],
 "metadata": {
  "kernelspec": {
   "display_name": "Python 3",
   "language": "python",
   "name": "python3"
  },
  "language_info": {
   "codemirror_mode": {
    "name": "ipython",
    "version": 3
   },
   "file_extension": ".py",
   "mimetype": "text/x-python",
   "name": "python",
   "nbconvert_exporter": "python",
   "pygments_lexer": "ipython3",
   "version": "3.12.3"
  }
 },
 "nbformat": 4,
 "nbformat_minor": 5
}
